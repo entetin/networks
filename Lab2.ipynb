{
 "cells": [
  {
   "cell_type": "markdown",
   "metadata": {},
   "source": [
    "# Lab 2"
   ]
  },
  {
   "cell_type": "code",
   "execution_count": 1,
   "metadata": {
    "collapsed": true
   },
   "outputs": [],
   "source": [
    "import numpy as np\n",
    "import matplotlib.pyplot as plt\n",
    "import networkx as nx\n",
    "%matplotlib inline"
   ]
  },
  {
   "cell_type": "markdown",
   "metadata": {},
   "source": [
    "### Clustering coefficient"
   ]
  },
  {
   "cell_type": "markdown",
   "metadata": {},
   "source": [
    "During the lecture we have understood, that the clustering coefficient of a random graph is equal to the probability $p$: $$\\text{Clustering coefficient} = \\frac{\\langle k \\rangle}{n} = p $$\n",
    "In this task you have to check it on generated data. Please, generate $100$ Random Graphs with $n = 1000$ and $p = 0.002$ (for saving computational time) and plot the box-plot of your computations."
   ]
  },
  {
   "cell_type": "code",
   "execution_count": 2,
   "metadata": {
    "collapsed": false
   },
   "outputs": [],
   "source": [
    "# Generating graphs\n",
    "\n",
    "n = 1000  # number of nodes\n",
    "p = 0.002 # probability of an edge\n",
    "\n",
    "graphs = []\n",
    "for i in range(1,101):\n",
    "    graphs.append(nx.gnp_random_graph(n, p))"
   ]
  },
  {
   "cell_type": "code",
   "execution_count": 3,
   "metadata": {
    "collapsed": false
   },
   "outputs": [
    {
     "data": {
      "image/png": "[encoded data removed]",
      "text/plain": [
       "<matplotlib.figure.Figure at 0x8476588>"
      ]
     },
     "metadata": {},
     "output_type": "display_data"
    }
   ],
   "source": [
    "# Plotting the box-plot\n",
    "\n",
    "# list of clustering coefficients for all graphs\n",
    "cc = [np.mean(g.degree().values())/n for g in graphs]\n",
    "\n",
    "fig = plt.figure(1, figsize = (5,7))\n",
    "ax = fig.add_subplot(111)\n",
    "bp = ax.boxplot(cc)"
   ]
  },
  {
   "cell_type": "markdown",
   "metadata": {},
   "source": [
    "### Size of small components"
   ]
  },
  {
   "cell_type": "markdown",
   "metadata": {},
   "source": [
    "In this task you are asked to calculate the average size of small components (small component = not a giant one) with regard to average degree of the network. To see the effect clearly, plot average size around $\\langle k \\rangle = 1$."
   ]
  },
  {
   "cell_type": "code",
   "execution_count": 4,
   "metadata": {
    "collapsed": false
   },
   "outputs": [
    {
     "data": {
      "text/plain": [
       "<matplotlib.text.Text at 0x10baaef0>"
      ]
     },
     "execution_count": 4,
     "metadata": {},
     "output_type": "execute_result"
    },
    {
     "data": {
      "image/png": "[encoded data removed]",
      "text/plain": [
       "<matplotlib.figure.Figure at 0x109ebcc0>"
      ]
     },
     "metadata": {},
     "output_type": "display_data"
    }
   ],
   "source": [
    "# Computing average size of small components\n",
    "\n",
    "small_sizes = [] # list of average sizes of small components of the networks\n",
    "av_degrees  = [] # list of average degrees of the networks\n",
    "\n",
    "for g in graphs:\n",
    "    # sorted list of all connected components in a graph, GCC is first\n",
    "    components = sorted(nx.connected_component_subgraphs(g), key=len, reverse=True)\n",
    "    \n",
    "    sizes = [] # list of sizes of all small components of the network\n",
    "    # for all components excluding the GCC:\n",
    "    for c in components[1:]:\n",
    "        sizes.append(c.number_of_nodes()) # size of small component\n",
    "             # or should it be c.size()? Results are similar anyway\n",
    "    small_sizes.append(np.mean(sizes))\n",
    "    \n",
    "    av_degrees.append(np.mean(g.degree().values()))\n",
    "    \n",
    "# Plotting the results\n",
    "\n",
    "plt.plot(small_sizes, av_degrees, '.')\n",
    "plt.xlabel('Average size of small components')\n",
    "plt.ylabel('Average degree of the network')"
   ]
  },
  {
   "cell_type": "markdown",
   "metadata": {},
   "source": [
    "### Average path length and transitivity"
   ]
  },
  {
   "cell_type": "markdown",
   "metadata": {},
   "source": [
    "Plot the average path length and transitivity coefficents with $n=1000$ and p=0.001 while increasing by 0.003"
   ]
  },
  {
   "cell_type": "code",
   "execution_count": 31,
   "metadata": {
    "collapsed": false
   },
   "outputs": [],
   "source": [
    "# Function for average path length\n",
    "def apl(g):\n",
    "    \"\"\"Return average shortest path length of a graph\"\"\"\n",
    "    components = list(nx.connected_component_subgraphs(g))\n",
    "    g_apl = [] # shortest path lengths in a graph\n",
    "    for c in components:\n",
    "        s = nx.shortest_path_length(c) # dict of dicts with path[source][target] = shortest_path_length\n",
    "        for i in s.values():\n",
    "            for j in i.values():\n",
    "                g_apl.append(j)\n",
    "    return np.mean(g_apl)"
   ]
  },
  {
   "cell_type": "code",
   "execution_count": 56,
   "metadata": {
    "collapsed": false
   },
   "outputs": [],
   "source": [
    "# Computing data\n",
    "\n",
    "n1 = 1000      # number of nodes\n",
    "graphs1 = []\n",
    "probs = []     # list of probabilities p\n",
    "rstart = 0.001 # range start\n",
    "rend = 0.1     # range end\n",
    "rstep = 0.003  # range step\n",
    "\n",
    "for p1 in np.arange(rstart, rend, rstep):\n",
    "    graphs1.append(nx.gnp_random_graph(n1, p1))\n",
    "    probs.append(p1)\n",
    "\n",
    "av_path_len = list(apl(g) for g in graphs1)       # average path lengths\n",
    "trans = list(nx.transitivity(g) for g in graphs1) # transitivity coefficients"
   ]
  },
  {
   "cell_type": "code",
   "execution_count": 57,
   "metadata": {
    "collapsed": false
   },
   "outputs": [
    {
     "data": {
      "text/plain": [
       "<matplotlib.text.Text at 0x1bf6aa58>"
      ]
     },
     "execution_count": 57,
     "metadata": {},
     "output_type": "execute_result"
    },
    {
     "data": {
      "image/png": "[encoded data removed]",
      "text/plain": [
       "<matplotlib.figure.Figure at 0x1d423630>"
      ]
     },
     "metadata": {},
     "output_type": "display_data"
    }
   ],
   "source": [
    "# Plotting\n",
    "\n",
    "plt.figure(1, figsize = (9, 5))\n",
    "plt.subplots_adjust(wspace = 0.3)\n",
    "\n",
    "plt.subplot(121)\n",
    "plt.plot(probs, av_path_len)\n",
    "plt.xlabel('p')\n",
    "plt.ylabel('Average path length')\n",
    "\n",
    "plt.subplot(122)\n",
    "plt.plot(probs, trans)\n",
    "plt.xlabel('p')\n",
    "plt.ylabel('Transitivity coefficient')"
   ]
  }
 ],
 "metadata": {
  "anaconda-cloud": {},
  "kernelspec": {
   "display_name": "Python 2",
   "language": "python",
   "name": "python2"
  },
  "language_info": {
   "codemirror_mode": {
    "name": "ipython",
    "version": 2
   },
   "file_extension": ".py",
   "mimetype": "text/x-python",
   "name": "python",
   "nbconvert_exporter": "python",
   "pygments_lexer": "ipython2",
   "version": "2.7.13"
  }
 },
 "nbformat": 4,
 "nbformat_minor": 2
}
