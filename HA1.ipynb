{
 "cells": [
  {
   "cell_type": "markdown",
   "metadata": {},
   "source": [
    "# <center>Network Science</center>"
   ]
  },
  {
   "cell_type": "markdown",
   "metadata": {},
   "source": [
    "## <center>Home Assignment #1: Power law</center>"
   ]
  },
  {
   "cell_type": "markdown",
   "metadata": {},
   "source": [
    "### <center>Student: Tetin Evgeniy</center>"
   ]
  },
  {
   "cell_type": "markdown",
   "metadata": {},
   "source": [
    "## Problems"
   ]
  },
  {
   "cell_type": "markdown",
   "metadata": {},
   "source": [
    "### Task 1."
   ]
  },
  {
   "cell_type": "markdown",
   "metadata": {},
   "source": [
    "Load [wordcounts](http://www.leonidzhukov.net/hse/2015/networks/data/wordcounts.txt) dataset. \n",
    "1. Check that Zipf's Law holds\n",
    "2. Assuming that the data is distributed according to the Power Law, find\n",
    " * $\\alpha$ of the distribution\n",
    " * mean sample variance $\\sigma^2$\n",
    "3. Produce summary of the frequencies: min, max, mean, median"
   ]
  },
  {
   "cell_type": "code",
   "execution_count": 1,
   "metadata": {
    "collapsed": false
   },
   "outputs": [],
   "source": [
    "%matplotlib inline\n",
    "import numpy as np\n",
    "import networkx as nx\n",
    "import matplotlib.pyplot as plt"
   ]
  },
  {
   "cell_type": "code",
   "execution_count": 2,
   "metadata": {
    "collapsed": true
   },
   "outputs": [],
   "source": [
    "# Loading the dataset\n",
    "dataset = np.loadtxt(\"wordcounts.txt\", dtype=\"i8,a16\")\n",
    "\n",
    "# Making sure it is sorted (descending by the first field)\n",
    "dataset[::-1].sort()\n",
    "\n",
    "# Creating a list of word counts\n",
    "wordcount = list(x[0] for x in dataset)"
   ]
  },
  {
   "cell_type": "markdown",
   "metadata": {},
   "source": [
    "<b>1. Check that Zipf's Law holds</b>"
   ]
  },
  {
   "cell_type": "markdown",
   "metadata": {},
   "source": [
    "Zipf's Law claims that the frequency of a word is inversely proportional to its rank in the frequency table.\n",
    "\n",
    "To show that it is true in our case, let's plot the word ranks with regard to the word counts. Since our data is sorted already, a word's rank is just its number in the array (starting with 1)."
   ]
  },
  {
   "cell_type": "code",
   "execution_count": 3,
   "metadata": {
    "collapsed": false
   },
   "outputs": [
    {
     "data": {
      "text/plain": [
       "<matplotlib.text.Text at 0x931cd68>"
      ]
     },
     "execution_count": 3,
     "metadata": {},
     "output_type": "execute_result"
    },
    {
     "data": {
      "image/png": "[encoded data removed]",
      "text/plain": [
       "<matplotlib.figure.Figure at 0x8588e48>"
      ]
     },
     "metadata": {},
     "output_type": "display_data"
    }
   ],
   "source": [
    "# Plotting data in log-log scale\n",
    "plt.loglog(wordcount, np.arange(1, len(wordcount)+1), '.')\n",
    "plt.xlabel('Word count')\n",
    "plt.ylabel('Word rank')"
   ]
  },
  {
   "cell_type": "markdown",
   "metadata": {},
   "source": [
    "We see that the visualization fits the Power law shape well and conclude that the word frequency is indeed inversely proportional to the word rank."
   ]
  },
  {
   "cell_type": "markdown",
   "metadata": {},
   "source": [
    "<b>2. Assuming that the data is distributed according to the Power Law, find\n",
    " * $\\alpha$ of the distribution\n",
    " * mean sample variance $\\sigma^2$</b>"
   ]
  },
  {
   "cell_type": "code",
   "execution_count": 4,
   "metadata": {
    "collapsed": false
   },
   "outputs": [],
   "source": [
    "# Finding distribution parameters\n",
    "n = len(dataset)\n",
    "alpha = 1 + n/float(np.sum(np.log(np.array(wordcount)/float(min(wordcount)))))\n",
    "sigma = (alpha - 1)/np.sqrt(n)"
   ]
  },
  {
   "cell_type": "code",
   "execution_count": 5,
   "metadata": {
    "collapsed": false
   },
   "outputs": [
    {
     "data": {
      "text/plain": [
       "1.7194176300571233"
      ]
     },
     "execution_count": 5,
     "metadata": {},
     "output_type": "execute_result"
    }
   ],
   "source": [
    "alpha"
   ]
  },
  {
   "cell_type": "code",
   "execution_count": 6,
   "metadata": {
    "collapsed": false
   },
   "outputs": [
    {
     "data": {
      "text/plain": [
       "8.1918601841881599e-05"
      ]
     },
     "execution_count": 6,
     "metadata": {},
     "output_type": "execute_result"
    }
   ],
   "source": [
    "np.square(sigma) # sigma squared"
   ]
  },
  {
   "cell_type": "markdown",
   "metadata": {},
   "source": [
    "<b>3. Produce summary of the frequencies: min, max, mean, median</b>"
   ]
  },
  {
   "cell_type": "code",
   "execution_count": 7,
   "metadata": {
    "collapsed": false
   },
   "outputs": [
    {
     "data": {
      "text/plain": [
       "800"
      ]
     },
     "execution_count": 7,
     "metadata": {},
     "output_type": "execute_result"
    }
   ],
   "source": [
    "min(wordcount) # min"
   ]
  },
  {
   "cell_type": "code",
   "execution_count": 8,
   "metadata": {
    "collapsed": false
   },
   "outputs": [
    {
     "data": {
      "text/plain": [
       "6187267"
      ]
     },
     "execution_count": 8,
     "metadata": {},
     "output_type": "execute_result"
    }
   ],
   "source": [
    "max(wordcount) # max"
   ]
  },
  {
   "cell_type": "code",
   "execution_count": 9,
   "metadata": {
    "collapsed": false
   },
   "outputs": [
    {
     "data": {
      "text/plain": [
       "13566.670781893004"
      ]
     },
     "execution_count": 9,
     "metadata": {},
     "output_type": "execute_result"
    }
   ],
   "source": [
    "np.mean(wordcount) # mean"
   ]
  },
  {
   "cell_type": "code",
   "execution_count": 10,
   "metadata": {
    "collapsed": false
   },
   "outputs": [
    {
     "data": {
      "text/plain": [
       "2335.0"
      ]
     },
     "execution_count": 10,
     "metadata": {},
     "output_type": "execute_result"
    }
   ],
   "source": [
    "np.median(wordcount) # median"
   ]
  },
  {
   "cell_type": "markdown",
   "metadata": {},
   "source": [
    "### <hr /> Task 2."
   ]
  },
  {
   "cell_type": "markdown",
   "metadata": {},
   "source": [
    "Find and plot PDF and CDF for the following networks:\n",
    "* [Routing network](http://www.leonidzhukov.net/hse/2015/networks/data/network.txt)\n",
    "* [Web graph](http://www.leonidzhukov.net/hse/2015/networks/data/web_Stanford.txt)\n",
    "\n",
    "1. Are they correspondent to power law?\n",
    "2. Find max and mean values of incoming and outcoming node degrees\n",
    "3. Find $\\alpha$ via Maximum Likelihood and calculate $\\sigma^2$\n",
    "4. Determine $x_{min}$ via Kolmogorov-Smirnov test\n",
    "5. Try to fit Erdos model for the Web Graph and describe common and different points in their descriptive statistics"
   ]
  },
  {
   "cell_type": "markdown",
   "metadata": {},
   "source": [
    "**Routing network**"
   ]
  },
  {
   "cell_type": "code",
   "execution_count": 11,
   "metadata": {
    "collapsed": false
   },
   "outputs": [],
   "source": [
    "# Loading the network\n",
    "edges = np.loadtxt(\"network.txt\", skiprows=4, dtype=\"i8,i8\")\n",
    "\n",
    "# Creating a graph\n",
    "RN = nx.Graph()\n",
    "RN.add_edges_from(edges)\n",
    "\n",
    "# Obtaining the degree distribution\n",
    "RN_degrees = RN.degree()\n",
    "RN_degrees = np.array(RN_degrees.values())"
   ]
  },
  {
   "cell_type": "markdown",
   "metadata": {},
   "source": [
    "* Find and plot PDF and CDF for the Routing network"
   ]
  },
  {
   "cell_type": "code",
   "execution_count": 13,
   "metadata": {
    "collapsed": true
   },
   "outputs": [],
   "source": [
    "# Function for the exponent of the power law distribution\n",
    "def alpha(x, xmin):\n",
    "    \"\"\"Return the value of the power law distribution exponent\"\"\"\n",
    "    return (1 + len(x)/float(np.sum(np.log(x/float(xmin)))))"
   ]
  },
  {
   "cell_type": "code",
   "execution_count": 14,
   "metadata": {
    "collapsed": true
   },
   "outputs": [],
   "source": [
    "# Function for the constant of the power law distribution\n",
    "def constant(alpha, xmin):\n",
    "    \"\"\"Return the constant of the power law distribution\"\"\"\n",
    "    return (alpha - 1)*np.power(xmin, alpha - 1)"
   ]
  },
  {
   "cell_type": "code",
   "execution_count": 15,
   "metadata": {
    "collapsed": true
   },
   "outputs": [],
   "source": [
    "# Finding the parameters of the degree distribution\n",
    "\n",
    "RN_alpha = alpha(RN_degrees, np.min(RN_degrees)) # compute alpha\n",
    "RN_c = constant(RN_alpha, np.min(RN_degrees))    # compute c"
   ]
  },
  {
   "cell_type": "code",
   "execution_count": 30,
   "metadata": {
    "collapsed": false
   },
   "outputs": [
    {
     "data": {
      "text/plain": [
       "<matplotlib.text.Text at 0x6aed5b38>"
      ]
     },
     "execution_count": 30,
     "metadata": {},
     "output_type": "execute_result"
    },
    {
     "data": {
      "image/png": "[encoded data removed]",
      "text/plain": [
       "<matplotlib.figure.Figure at 0x6dbae1d0>"
      ]
     },
     "metadata": {},
     "output_type": "display_data"
    }
   ],
   "source": [
    "# Plotting PDF and CDF of the distribution (in log-log scale)\n",
    "\n",
    "plt.figure(1, figsize = (12, 5))\n",
    "plt.subplots_adjust(wspace = 0.5)\n",
    "\n",
    "plt.subplot(121)\n",
    "plt.loglog(RN_degrees, RN_c/np.power(RN_degrees, RN_alpha), '.')\n",
    "plt.xlabel('Node degrees')\n",
    "plt.ylabel('PDF')\n",
    "\n",
    "plt.subplot(122)\n",
    "plt.loglog(RN_degrees, 1 - np.power(RN_degrees/float(min(RN_degrees)), 1 - RN_alpha), '.')\n",
    "plt.xlabel('Node degrees')\n",
    "plt.ylabel('CDF')"
   ]
  },
  {
   "cell_type": "markdown",
   "metadata": {},
   "source": [
    "* Is it correspondent to power law?"
   ]
  },
  {
   "cell_type": "markdown",
   "metadata": {},
   "source": [
    "Judging by the obtained visualization, we can conclude that the distribution of node degrees of the Routing network fits Power law model very well."
   ]
  },
  {
   "cell_type": "markdown",
   "metadata": {},
   "source": [
    "* Find max and mean values of incoming and outcoming node degrees"
   ]
  },
  {
   "cell_type": "markdown",
   "metadata": {},
   "source": [
    "Although the graph representing the Routing network is described in the text file as undirected, let's assume the given edges as directed, thus making it possible to define incoming and outcoming degrees for the nodes."
   ]
  },
  {
   "cell_type": "code",
   "execution_count": 17,
   "metadata": {
    "collapsed": false
   },
   "outputs": [
    {
     "name": "stdout",
     "output_type": "stream",
     "text": [
      "  max in-degree: 40\n",
      " mean in-degree: 2.109306\n",
      " max out-degree: 2389\n",
      "mean out-degree: 2.109306\n"
     ]
    }
   ],
   "source": [
    "# Creating a directed graph\n",
    "\n",
    "RN_directed = nx.DiGraph()\n",
    "RN_directed.add_edges_from(edges)\n",
    "\n",
    "print '  max in-degree: {0:d}'.format(     max(RN_directed.in_degree().values()))\n",
    "print ' mean in-degree: {0:f}'.format( np.mean(RN_directed.in_degree().values()))\n",
    "print ' max out-degree: {0:d}'.format(    max(RN_directed.out_degree().values()))\n",
    "print 'mean out-degree: {0:f}'.format(np.mean(RN_directed.out_degree().values()))"
   ]
  },
  {
   "cell_type": "markdown",
   "metadata": {},
   "source": [
    "* Find $\\alpha$ via Maximum Likelihood and calculate $\\sigma^2$"
   ]
  },
  {
   "cell_type": "code",
   "execution_count": 18,
   "metadata": {
    "collapsed": false
   },
   "outputs": [
    {
     "data": {
      "text/plain": [
       "2.4351717529396106"
      ]
     },
     "execution_count": 18,
     "metadata": {},
     "output_type": "execute_result"
    }
   ],
   "source": [
    "alpha(RN_degrees, min(RN_degrees)) # alpha"
   ]
  },
  {
   "cell_type": "code",
   "execution_count": 19,
   "metadata": {
    "collapsed": false
   },
   "outputs": [
    {
     "name": "stdout",
     "output_type": "stream",
     "text": [
      "8.96972503783e-05\n"
     ]
    }
   ],
   "source": [
    "RN_sigma = (RN_alpha - 1)/np.sqrt(len(RN_degrees)) # sigma\n",
    "print np.square(RN_sigma) # sigma squared"
   ]
  },
  {
   "cell_type": "markdown",
   "metadata": {},
   "source": [
    "**Web graph**"
   ]
  },
  {
   "cell_type": "code",
   "execution_count": 20,
   "metadata": {
    "collapsed": false
   },
   "outputs": [],
   "source": [
    "# Loading data\n",
    "W_edges = np.loadtxt(\"web_Stanford.txt\", skiprows=4, dtype=\"i8,i8\")"
   ]
  },
  {
   "cell_type": "code",
   "execution_count": 21,
   "metadata": {
    "collapsed": true
   },
   "outputs": [],
   "source": [
    "# Creating a graph\n",
    "W = nx.DiGraph()\n",
    "W.add_edges_from(W_edges)"
   ]
  },
  {
   "cell_type": "code",
   "execution_count": 22,
   "metadata": {
    "collapsed": true
   },
   "outputs": [],
   "source": [
    "# Obtaining the degree distribution\n",
    "W_degrees = W.degree()\n",
    "W_degrees = np.array(W_degrees.values())"
   ]
  },
  {
   "cell_type": "markdown",
   "metadata": {},
   "source": [
    "* Find and plot PDF and CDF for the Web graph"
   ]
  },
  {
   "cell_type": "code",
   "execution_count": 23,
   "metadata": {
    "collapsed": true
   },
   "outputs": [],
   "source": [
    "# Finding the parameters of the degree distribution\n",
    "\n",
    "W_alpha = alpha(W_degrees, np.min(W_degrees)) # compute alpha\n",
    "W_c  = constant(W_alpha,   np.min(W_degrees)) # compute c"
   ]
  },
  {
   "cell_type": "code",
   "execution_count": 31,
   "metadata": {
    "collapsed": false
   },
   "outputs": [
    {
     "data": {
      "text/plain": [
       "<matplotlib.text.Text at 0x6edb31d0>"
      ]
     },
     "execution_count": 31,
     "metadata": {},
     "output_type": "execute_result"
    },
    {
     "data": {
      "image/png": "[encoded data removed]",
      "text/plain": [
       "<matplotlib.figure.Figure at 0x6af460f0>"
      ]
     },
     "metadata": {},
     "output_type": "display_data"
    }
   ],
   "source": [
    "# Plotting PDF and CDF of the distribution (in log-log scale)\n",
    "\n",
    "plt.figure(1, figsize = (12, 5))\n",
    "plt.subplots_adjust(wspace = 0.5)\n",
    "\n",
    "plt.subplot(121)\n",
    "plt.loglog(W_degrees, W_c/np.power(W_degrees, W_alpha), '.')\n",
    "plt.xlabel('Node degrees')\n",
    "plt.ylabel('PDF')\n",
    "\n",
    "plt.subplot(122)\n",
    "plt.loglog(W_degrees, 1 - np.power(W_degrees/float(min(W_degrees)), 1 - W_alpha), '.')\n",
    "plt.xlabel('Node degrees')\n",
    "plt.ylabel('CDF')"
   ]
  },
  {
   "cell_type": "markdown",
   "metadata": {},
   "source": [
    "* Is it correspondent to power law?"
   ]
  },
  {
   "cell_type": "markdown",
   "metadata": {},
   "source": [
    "Once again, the visualization indicates that the distribution of node degrees of the Web graph indeed corresponds to the Power law model quite closely."
   ]
  },
  {
   "cell_type": "markdown",
   "metadata": {},
   "source": [
    "* Find max and mean values of incoming and outcoming node degrees"
   ]
  },
  {
   "cell_type": "code",
   "execution_count": 25,
   "metadata": {
    "collapsed": false
   },
   "outputs": [
    {
     "name": "stdout",
     "output_type": "stream",
     "text": [
      "  max in-degree: 38606\n",
      " mean in-degree: 8.203166\n",
      " max out-degree: 255\n",
      "mean out-degree: 8.203166\n"
     ]
    }
   ],
   "source": [
    "print '  max in-degree: {0:d}'.format(     max(W.in_degree().values()))\n",
    "print ' mean in-degree: {0:f}'.format( np.mean(W.in_degree().values()))\n",
    "print ' max out-degree: {0:d}'.format(    max(W.out_degree().values()))\n",
    "print 'mean out-degree: {0:f}'.format(np.mean(W.out_degree().values()))"
   ]
  },
  {
   "cell_type": "markdown",
   "metadata": {},
   "source": [
    "* Find $\\alpha$ via Maximum Likelihood and calculate $\\sigma^2$"
   ]
  },
  {
   "cell_type": "code",
   "execution_count": 26,
   "metadata": {
    "collapsed": false
   },
   "outputs": [
    {
     "data": {
      "text/plain": [
       "1.4712387062630894"
      ]
     },
     "execution_count": 26,
     "metadata": {},
     "output_type": "execute_result"
    }
   ],
   "source": [
    "alpha(W_degrees, min(W_degrees)) # alpha"
   ]
  },
  {
   "cell_type": "code",
   "execution_count": 27,
   "metadata": {
    "collapsed": false
   },
   "outputs": [
    {
     "name": "stdout",
     "output_type": "stream",
     "text": [
      "7.87738755106e-07\n"
     ]
    }
   ],
   "source": [
    "W_sigma = (W_alpha - 1)/np.sqrt(len(W_degrees)) # sigma\n",
    "print np.square(W_sigma) # sigma squared"
   ]
  }
 ],
 "metadata": {
  "anaconda-cloud": {},
  "kernelspec": {
   "display_name": "Python 2",
   "language": "python",
   "name": "python2"
  },
  "language_info": {
   "codemirror_mode": {
    "name": "ipython",
    "version": 2
   },
   "file_extension": ".py",
   "mimetype": "text/x-python",
   "name": "python",
   "nbconvert_exporter": "python",
   "pygments_lexer": "ipython2",
   "version": "2.7.13"
  }
 },
 "nbformat": 4,
 "nbformat_minor": 0
}
