{
 "cells": [
  {
   "cell_type": "markdown",
   "metadata": {},
   "source": [
    "# Network Models: Small World"
   ]
  },
  {
   "cell_type": "code",
   "execution_count": 2,
   "metadata": {
    "collapsed": false
   },
   "outputs": [],
   "source": [
    "import numpy as np\n",
    "import matplotlib.pyplot as plt\n",
    "# plt.xkcd()\n",
    "import networkx as nx\n",
    "%matplotlib inline"
   ]
  },
  {
   "cell_type": "markdown",
   "metadata": {},
   "source": [
    "During this seminar we will work with **Watts and Strogatz model**.\n",
    "Again, the idea of the model:\n",
    "\n",
    "1. Start with regular lattice with N nodes, K nearest neighbours\n",
    "2. For each node take every edge and rewire it with probability $p$, assuming that there is no loops and edge duplications"
   ]
  },
  {
   "cell_type": "markdown",
   "metadata": {},
   "source": [
    "##### Task"
   ]
  },
  {
   "cell_type": "markdown",
   "metadata": {},
   "source": [
    " 1. Implement *rewind(G, p)* function that takes graph G and probability p as input. The function should produce a graph after step 2 of the model above. \n",
    " 2. Run experiments for various values of p, compute and show \n",
    "     * average path length \n",
    "     * clustering coefficients (transitivity) \n",
    "     * degree distribution     \n",
    " 3. Compute centrality metrics for the [network](http://www-personal.umich.edu/~mejn/netdata/polblogs.zip) (including eigenvector, Katz, dispersion, local load centralities) and highlight interaction between vertices with the highest degree. Plot the interesting cases and interpret them.\n",
    " 4. Try to model the network from (3) with Small World Model and Erdos-Renyi Model.\n",
    " 5. Plot the dependencies between different centrality metrics for the network and the simultaed graphs. Are there any correlations between centrality metrics? Explain the differences."
   ]
  },
  {
   "cell_type": "code",
   "execution_count": 128,
   "metadata": {
    "collapsed": false
   },
   "outputs": [],
   "source": [
    "def gen_regular_graph(n, k):\n",
    "    G = nx.Graph()\n",
    "    nodes = list(range(n))\n",
    "    for j in range(1, k // 2+1):\n",
    "        targets = nodes[j:] + nodes[0:j] # first j nodes are now last in list\n",
    "        G.add_edges_from(zip(nodes,targets))\n",
    "    return G\n",
    "\n",
    "def degree_distr(k, bins = 'auto'):\n",
    "    yh, binEdges = np.histogram(k, bins)\n",
    "    bincenters = 0.5*(binEdges[1:]+binEdges[:-1])\n",
    "    return yh, bincenters"
   ]
  },
  {
   "cell_type": "markdown",
   "metadata": {},
   "source": [
    "#### 1. Implement *rewind(G, p)* function that takes graph G and probability p as input. The function should produce a graph after step 2 of the model above."
   ]
  },
  {
   "cell_type": "markdown",
   "metadata": {},
   "source": [
    "The idea is to iterate over all the edges present in the given graph G, and to do the following with each of them:\n",
    "\n",
    "* with probability p, change it so it would lead to different (chosen at random) node, while still connecting to the same first node; in other words, it is like treating the edge as a directed one, changing its end node, but preserving the start node.\n",
    "\n",
    "Thus, the function will produce a graph of Watts and Strogatz model."
   ]
  },
  {
   "cell_type": "code",
   "execution_count": 4,
   "metadata": {
    "collapsed": true
   },
   "outputs": [],
   "source": [
    "def rewind(G, p):\n",
    "    \"\"\"Return graph of Watts and Strogatz model\"\"\"\n",
    "    edges = G.edges()\n",
    "    # Take every edge and rewire it with probability p\n",
    "    for i in edges:\n",
    "        if np.random.random() < p:\n",
    "            G.remove_edge(i[0], i[1]) # remove existing edge\n",
    "            G.add_edge(i[0], np.random.randint(G.number_of_nodes())) # add new random edge in place of old edge\n",
    "    return G"
   ]
  },
  {
   "cell_type": "markdown",
   "metadata": {},
   "source": [
    "#### 2. Run experiments for various values of p, compute and show\n",
    "- **average path length**\n",
    "- **clustering coefficients (transitivity)**\n",
    "- **degree distribution**"
   ]
  },
  {
   "cell_type": "code",
   "execution_count": 241,
   "metadata": {
    "collapsed": false,
    "scrolled": true
   },
   "outputs": [
    {
     "name": "stdout",
     "output_type": "stream",
     "text": [
      "  p      average path length      clustering coefficient\n",
      "--------------------------------------------------------\n",
      "0.000           50.45                      0.67\n",
      "0.050           5.39                      0.58\n",
      "0.100           4.38                      0.47\n",
      "0.150           4.11                      0.41\n",
      "0.200           3.85                      0.33\n"
     ]
    },
    {
     "data": {
      "image/png": "[encoded data removed]",
      "text/plain": [
       "<matplotlib.figure.Figure at 0x1ec9eeb8>"
      ]
     },
     "metadata": {},
     "output_type": "display_data"
    }
   ],
   "source": [
    "num_nodes = 1000 # number of nodes in a graph\n",
    "degree = 10 # number of nearest neighbours for each node\n",
    "\n",
    "plt.figure(1, figsize = (14, 3))\n",
    "plt.subplots_adjust(wspace = 0.3)\n",
    "\n",
    "print '  p      average path length      clustering coefficient'\n",
    "print '--------------------------------------------------------'\n",
    "steps = 5  # number of experiments with different p\n",
    "max = 0.25 # maximum value of p\n",
    "\n",
    "for step in np.arange(steps):\n",
    "    p = max/steps*step # calculating the probability\n",
    "    g = gen_regular_graph(num_nodes, degree) # creating the regular graph\n",
    "    g = rewind(g, p) # applying the conversion to small world model\n",
    "    apl = nx.average_shortest_path_length(g) # computing average path length\n",
    "    cc = nx.transitivity(g) # computing clustering coefficient\n",
    "    # printing results\n",
    "    print '{0:.3f}           {1:.2f}                      {2:.2f}'.format(p, apl, cc)\n",
    "        \n",
    "    # plotting the distribution\n",
    "    plt.subplot(1, steps, step + 1)\n",
    "    plt.hist(g.degree().values())\n",
    "    plt.title('p = ' + str(p))"
   ]
  },
  {
   "cell_type": "markdown",
   "metadata": {},
   "source": [
    "We observe that with increasing probability p both average shortest path length and clustering coefficient decrease. The average path length shortens dramatically with just any perceptible p > 0. The reduction of clustering coefficient, while present, is not that drastic. The degree of nodes gradually disperses around initial value (10)."
   ]
  },
  {
   "cell_type": "markdown",
   "metadata": {},
   "source": [
    "#### 3. Compute centrality metrics for the Political blogosphere network (including eigenvector, Katz, dispersion, local load centralities) and highlight interaction between vertices with the highest degree. Plot the interesting cases and interpret them."
   ]
  },
  {
   "cell_type": "code",
   "execution_count": 6,
   "metadata": {
    "collapsed": true
   },
   "outputs": [],
   "source": [
    "# Loading the network\n",
    "G = nx.read_gml(path = 'polblogs.gml')"
   ]
  },
  {
   "cell_type": "markdown",
   "metadata": {},
   "source": [
    "Computing centrality metrics:"
   ]
  },
  {
   "cell_type": "code",
   "execution_count": 7,
   "metadata": {
    "collapsed": false
   },
   "outputs": [],
   "source": [
    "dc = nx.degree_centrality(G)"
   ]
  },
  {
   "cell_type": "code",
   "execution_count": 8,
   "metadata": {
    "collapsed": true
   },
   "outputs": [],
   "source": [
    "cl = nx.closeness_centrality(G)"
   ]
  },
  {
   "cell_type": "code",
   "execution_count": 9,
   "metadata": {
    "collapsed": true
   },
   "outputs": [],
   "source": [
    "bc = nx.betweenness_centrality(G)"
   ]
  },
  {
   "cell_type": "code",
   "execution_count": 10,
   "metadata": {
    "collapsed": false
   },
   "outputs": [],
   "source": [
    "# ec = nx.eigenvector_centrality(G)"
   ]
  },
  {
   "cell_type": "code",
   "execution_count": 11,
   "metadata": {
    "collapsed": false
   },
   "outputs": [],
   "source": [
    "# kc = nx.katz_centrality(G)"
   ]
  },
  {
   "cell_type": "code",
   "execution_count": 12,
   "metadata": {
    "collapsed": true
   },
   "outputs": [],
   "source": [
    "lc = nx.load_centrality(G)"
   ]
  },
  {
   "cell_type": "markdown",
   "metadata": {},
   "source": [
    "Let's see what ranks did the node with the highest degree get in each metric. For that, we sort all nodes by each metric independently, and see what place does the node have."
   ]
  },
  {
   "cell_type": "markdown",
   "metadata": {},
   "source": [
    "We create a list of all the centrality metrics we computed and apply sorting to each element of the list. Thus we obtain a list of sorted metrics."
   ]
  },
  {
   "cell_type": "code",
   "execution_count": 88,
   "metadata": {
    "collapsed": true
   },
   "outputs": [],
   "source": [
    "centralities = [dc, cl, bc, lc] # list of all centrality metrics\n",
    "centrality_names = ['     degree centrality',\n",
    "                    '  closeness centrality',\n",
    "                    'betweenness centrality',\n",
    "                    '       load centrality']"
   ]
  },
  {
   "cell_type": "code",
   "execution_count": 115,
   "metadata": {
    "collapsed": true
   },
   "outputs": [],
   "source": [
    "centralities_sorted = [] # list of sorted centrality metrics (descending)\n",
    "for c in centralities:\n",
    "    centralities_sorted.append(sorted(c.items(), key = lambda x: x[1], reverse = True))"
   ]
  },
  {
   "cell_type": "markdown",
   "metadata": {},
   "source": [
    "Find the node with the highest degree. In fact, find the node with the second highest degree as well."
   ]
  },
  {
   "cell_type": "code",
   "execution_count": 237,
   "metadata": {
    "collapsed": false
   },
   "outputs": [
    {
     "name": "stdout",
     "output_type": "stream",
     "text": [
      "Node 855 has degree 468.\n",
      "Node 155 has degree 384.\n"
     ]
    }
   ],
   "source": [
    "inverse = [(value, key) for key, value in G.degree().items()] # inversing the tuples of nodes and their degrees\n",
    "\n",
    "# finding two greatest node degrees\n",
    "m1, m2 = (0,0)\n",
    "for i in inverse:\n",
    "    if i > m1:\n",
    "        m2 = m1\n",
    "        m1 = i\n",
    "        \n",
    "max_degree_node = m1[1]\n",
    "second_max = m2[1]\n",
    "print 'Node {} has degree {}.'.format(max_degree_node, m1[0])\n",
    "print 'Node {} has degree {}.'.format(second_max, m2[0])"
   ]
  },
  {
   "cell_type": "markdown",
   "metadata": {},
   "source": [
    "Find where those nodes are in the metrics lists:"
   ]
  },
  {
   "cell_type": "code",
   "execution_count": 125,
   "metadata": {
    "collapsed": false
   },
   "outputs": [
    {
     "name": "stdout",
     "output_type": "stream",
     "text": [
      "Ranks of the node with the highest degree:\n",
      "\n",
      "     degree centrality: 0\n",
      "  closeness centrality: 0\n",
      "betweenness centrality: 0\n",
      "       load centrality: 0\n"
     ]
    }
   ],
   "source": [
    "print 'Ranks of the node with the highest degree:\\n'\n",
    "for i in range(len(centralities)):\n",
    "    node = next(j for j,x in enumerate(centralities_sorted[i]) if x[0] == max_degree_node)\n",
    "    print '{0}: {1}'.format(centrality_names[i], node)"
   ]
  },
  {
   "cell_type": "code",
   "execution_count": 120,
   "metadata": {
    "collapsed": false
   },
   "outputs": [
    {
     "name": "stdout",
     "output_type": "stream",
     "text": [
      "Ranks of the node with the second highest degree:\n",
      "\n",
      "     degree centrality: 1\n",
      "  closeness centrality: 388\n",
      "betweenness centrality: 3\n",
      "       load centrality: 3\n"
     ]
    }
   ],
   "source": [
    "print 'Ranks of the node with the second highest degree:\\n'\n",
    "for i in range(len(centralities)):\n",
    "    node = next(j for j,x in enumerate(centralities_sorted[i]) if x[0] == second_max)\n",
    "    print '{0}: {1}'.format(centrality_names[i], node)"
   ]
  },
  {
   "cell_type": "markdown",
   "metadata": {},
   "source": [
    "We see that the node with the highest degree scores highest in all centrality metrics, while the node with the second highest degree follows it quite closely except in the **closeness centrality** metric."
   ]
  },
  {
   "cell_type": "markdown",
   "metadata": {},
   "source": [
    "#### 4. Try to model the network from (3) with Small World Model and Erdos-Renyi Model."
   ]
  },
  {
   "cell_type": "markdown",
   "metadata": {},
   "source": [
    "First we will see how the given network looks."
   ]
  },
  {
   "cell_type": "code",
   "execution_count": 239,
   "metadata": {
    "collapsed": false
   },
   "outputs": [],
   "source": [
    "# Procedure to plot different types of plots for a graph\n",
    "\n",
    "def plot_graph(G):\n",
    "    # Calculating node degree distribution\n",
    "    plt.figure(1, figsize = (11, 8))\n",
    "    plt.subplots_adjust(wspace = 0.3, hspace = 0.4)\n",
    "\n",
    "    y, x = degree_distr(G.degree().values())\n",
    "\n",
    "    # Linear scale\n",
    "    plt.subplot(221)\n",
    "    plt.plot(x, y/float(len(y)), '.')\n",
    "    plt.xlabel('Node degree')\n",
    "    plt.ylabel('Probability')\n",
    "    plt.title('Linear scale')\n",
    "\n",
    "    # Linear binning\n",
    "    plt.subplot(222)\n",
    "    plt.loglog(x, y/float(len(y)), '.')\n",
    "    plt.xlabel('Node degree (log)')\n",
    "    plt.ylabel('Probability (log)')\n",
    "    plt.title('Linear binning')\n",
    "\n",
    "    # Log-binning\n",
    "    bins = np.logspace(0, 10, base = 2.0)\n",
    "    y, x = degree_distr(G.degree().values(), bins)\n",
    "\n",
    "    plt.subplot(223)\n",
    "    plt.loglog(x, y/float(len(y)), '.')\n",
    "    plt.xlabel('Node degree (log)')\n",
    "    plt.ylabel('Probability (log)')\n",
    "    plt.title('Log-binning')\n",
    "\n",
    "    # Rank-frequency plot\n",
    "    k_sorted = sorted(G.degree().values(), reverse = True)\n",
    "    r = np.arange(1, G.number_of_nodes() + 1)\n",
    "\n",
    "    plt.subplot(224)\n",
    "    plt.loglog(k_sorted, r/float(len(r)), '.')\n",
    "    plt.xlabel('Node degrees (log)')\n",
    "    plt.ylabel('Probability (log)')\n",
    "    plt.title('Rank-frequency')"
   ]
  },
  {
   "cell_type": "code",
   "execution_count": 224,
   "metadata": {
    "collapsed": false
   },
   "outputs": [
    {
     "data": {
      "image/png": "[encoded data removed]",
      "text/plain": [
       "<matplotlib.figure.Figure at 0x33a922b0>"
      ]
     },
     "metadata": {},
     "output_type": "display_data"
    }
   ],
   "source": [
    "plot_graph(G)"
   ]
  },
  {
   "cell_type": "markdown",
   "metadata": {},
   "source": [
    "Now we will try to model the network with Small World model."
   ]
  },
  {
   "cell_type": "code",
   "execution_count": 234,
   "metadata": {
    "collapsed": false
   },
   "outputs": [],
   "source": [
    "n = G.number_of_nodes()\n",
    "k = 2\n",
    "p = 0.9\n",
    "\n",
    "SW = gen_regular_graph(n, k) # creating the regular graph\n",
    "SW = rewind(SW, p) # applying the conversion to small world model"
   ]
  },
  {
   "cell_type": "code",
   "execution_count": 235,
   "metadata": {
    "collapsed": false
   },
   "outputs": [
    {
     "data": {
      "image/png": "[encoded data removed]",
      "text/plain": [
       "<matplotlib.figure.Figure at 0x5cd0e8d0>"
      ]
     },
     "metadata": {},
     "output_type": "display_data"
    }
   ],
   "source": [
    "plot_graph(SW)"
   ]
  },
  {
   "cell_type": "code",
   "execution_count": 247,
   "metadata": {
    "collapsed": true
   },
   "outputs": [],
   "source": [
    "# Function to produce a random graph\n",
    "\n",
    "def random_graph(n, p):\n",
    "    G = nx.Graph()\n",
    "    G.add_nodes_from(range(0,n))\n",
    "    \n",
    "    for i in xrange(0,n):\n",
    "        for j in xrange(0,n):\n",
    "            if np.random.random() <= p:\n",
    "                G.add_edge(i,j)        \n",
    "    return G"
   ]
  },
  {
   "cell_type": "markdown",
   "metadata": {},
   "source": [
    "Attempt to model the network using random graph model."
   ]
  },
  {
   "cell_type": "code",
   "execution_count": 250,
   "metadata": {
    "collapsed": false
   },
   "outputs": [
    {
     "data": {
      "image/png": "[encoded data removed]",
      "text/plain": [
       "<matplotlib.figure.Figure at 0x30346cc0>"
      ]
     },
     "metadata": {},
     "output_type": "display_data"
    }
   ],
   "source": [
    "p = 0.1\n",
    "\n",
    "RG = random_graph(n, p)\n",
    "plot_graph(RG)"
   ]
  }
 ],
 "metadata": {
  "anaconda-cloud": {},
  "kernelspec": {
   "display_name": "Python 2",
   "language": "python",
   "name": "python2"
  },
  "language_info": {
   "codemirror_mode": {
    "name": "ipython",
    "version": 2
   },
   "file_extension": ".py",
   "mimetype": "text/x-python",
   "name": "python",
   "nbconvert_exporter": "python",
   "pygments_lexer": "ipython2",
   "version": "2.7.13"
  }
 },
 "nbformat": 4,
 "nbformat_minor": 0
}
